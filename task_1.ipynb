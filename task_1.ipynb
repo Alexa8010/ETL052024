{
 "cells": [
  {
   "cell_type": "markdown",
   "metadata": {},
   "source": [
    "Введение в подготовку данных для аналитиков. Таблицы фактов и таблицы измерений\n",
    "1. Скачайте датасет fifаs2.сsv. Проанализируйте его и определите, какие данные являются неполными. Удалите\n",
    "ненужные колонки и недостающие значения.\n",
    "\n",
    "2. Найдите в датафрейме полные дубликаты и удалите их. Значения могут быть одинаковыми, но написаны по-разному. Например, может отличаться размер регистра (заглавные и строчные буквы). Особое внимание уделить колонке с названиями команд.\n",
    "\n",
    "3. Напишите функцию, которая добавит колонку с разбиением возраста по группам: до 20, от 20 до 30, от 30 до\n",
    "36 и старше 36. Посчитайте количество футболистов в каждой категории."
   ]
  },
  {
   "cell_type": "code",
   "execution_count": 2,
   "metadata": {},
   "outputs": [],
   "source": [
    "import pandas as pd\n",
    "data = pd.read_csv('fifa_s2.csv')\n"
   ]
  },
  {
   "cell_type": "code",
   "execution_count": 3,
   "metadata": {},
   "outputs": [
    {
     "data": {
      "text/html": [
       "<div>\n",
       "<style scoped>\n",
       "    .dataframe tbody tr th:only-of-type {\n",
       "        vertical-align: middle;\n",
       "    }\n",
       "\n",
       "    .dataframe tbody tr th {\n",
       "        vertical-align: top;\n",
       "    }\n",
       "\n",
       "    .dataframe thead th {\n",
       "        text-align: right;\n",
       "    }\n",
       "</style>\n",
       "<table border=\"1\" class=\"dataframe\">\n",
       "  <thead>\n",
       "    <tr style=\"text-align: right;\">\n",
       "      <th></th>\n",
       "      <th>ID</th>\n",
       "      <th>Name</th>\n",
       "      <th>Age</th>\n",
       "      <th>Nationality</th>\n",
       "      <th>Overall</th>\n",
       "      <th>Potential</th>\n",
       "      <th>Club</th>\n",
       "      <th>Value</th>\n",
       "      <th>Wage</th>\n",
       "      <th>Preferred Foot</th>\n",
       "      <th>International Reputation</th>\n",
       "      <th>Skill Moves</th>\n",
       "      <th>Position</th>\n",
       "      <th>Joined</th>\n",
       "      <th>Contract Valid Until</th>\n",
       "      <th>Height</th>\n",
       "      <th>Weight</th>\n",
       "      <th>Release Clause</th>\n",
       "    </tr>\n",
       "  </thead>\n",
       "  <tbody>\n",
       "    <tr>\n",
       "      <th>0</th>\n",
       "      <td>1179</td>\n",
       "      <td>G. Buffon</td>\n",
       "      <td>40</td>\n",
       "      <td>Italy</td>\n",
       "      <td>88</td>\n",
       "      <td>88</td>\n",
       "      <td>Paris Saint-Germain</td>\n",
       "      <td>4000.0</td>\n",
       "      <td>77</td>\n",
       "      <td>Right</td>\n",
       "      <td>4.0</td>\n",
       "      <td>1.0</td>\n",
       "      <td>GK</td>\n",
       "      <td>2018</td>\n",
       "      <td>01/01/2019</td>\n",
       "      <td>6.333333</td>\n",
       "      <td>203.0</td>\n",
       "      <td>7400.0</td>\n",
       "    </tr>\n",
       "    <tr>\n",
       "      <th>1</th>\n",
       "      <td>5479</td>\n",
       "      <td>Casillas</td>\n",
       "      <td>37</td>\n",
       "      <td>Spain</td>\n",
       "      <td>82</td>\n",
       "      <td>82</td>\n",
       "      <td>FC Porto</td>\n",
       "      <td>1500.0</td>\n",
       "      <td>10</td>\n",
       "      <td>Left</td>\n",
       "      <td>4.0</td>\n",
       "      <td>1.0</td>\n",
       "      <td>NaN</td>\n",
       "      <td>2015</td>\n",
       "      <td>01/01/2019</td>\n",
       "      <td>6.083333</td>\n",
       "      <td>185.0</td>\n",
       "      <td>3000.0</td>\n",
       "    </tr>\n",
       "    <tr>\n",
       "      <th>2</th>\n",
       "      <td>8205</td>\n",
       "      <td>Braga</td>\n",
       "      <td>35</td>\n",
       "      <td>Portugal</td>\n",
       "      <td>70</td>\n",
       "      <td>70</td>\n",
       "      <td>CD Aves</td>\n",
       "      <td>750.0</td>\n",
       "      <td>5</td>\n",
       "      <td>Right</td>\n",
       "      <td>1.0</td>\n",
       "      <td>3.0</td>\n",
       "      <td>LCM</td>\n",
       "      <td>2017</td>\n",
       "      <td>01/01/2019</td>\n",
       "      <td>5.916667</td>\n",
       "      <td>165.0</td>\n",
       "      <td>1600.0</td>\n",
       "    </tr>\n",
       "    <tr>\n",
       "      <th>3</th>\n",
       "      <td>9014</td>\n",
       "      <td>A. Robben</td>\n",
       "      <td>34</td>\n",
       "      <td>Netherlands</td>\n",
       "      <td>84</td>\n",
       "      <td>84</td>\n",
       "      <td>FC Bayern München</td>\n",
       "      <td>15500.0</td>\n",
       "      <td>110</td>\n",
       "      <td>Left</td>\n",
       "      <td>4.0</td>\n",
       "      <td>4.0</td>\n",
       "      <td>RM</td>\n",
       "      <td>2009</td>\n",
       "      <td>01/01/2019</td>\n",
       "      <td>5.916667</td>\n",
       "      <td>176.0</td>\n",
       "      <td>25600.0</td>\n",
       "    </tr>\n",
       "    <tr>\n",
       "      <th>4</th>\n",
       "      <td>19521</td>\n",
       "      <td>J. Ibehre</td>\n",
       "      <td>35</td>\n",
       "      <td>England</td>\n",
       "      <td>61</td>\n",
       "      <td>61</td>\n",
       "      <td>Cambridge United</td>\n",
       "      <td>120.0</td>\n",
       "      <td>2</td>\n",
       "      <td>Right</td>\n",
       "      <td>1.0</td>\n",
       "      <td>2.0</td>\n",
       "      <td>ST</td>\n",
       "      <td>2017</td>\n",
       "      <td>01/01/2019</td>\n",
       "      <td>6.333333</td>\n",
       "      <td>203.0</td>\n",
       "      <td>210.0</td>\n",
       "    </tr>\n",
       "  </tbody>\n",
       "</table>\n",
       "</div>"
      ],
      "text/plain": [
       "      ID       Name  Age  Nationality  Overall  Potential  \\\n",
       "0   1179  G. Buffon   40        Italy       88         88   \n",
       "1   5479   Casillas   37        Spain       82         82   \n",
       "2   8205      Braga   35     Portugal       70         70   \n",
       "3   9014  A. Robben   34  Netherlands       84         84   \n",
       "4  19521  J. Ibehre   35      England       61         61   \n",
       "\n",
       "                  Club    Value  Wage Preferred Foot  \\\n",
       "0  Paris Saint-Germain   4000.0    77          Right   \n",
       "1             FC Porto   1500.0    10           Left   \n",
       "2              CD Aves    750.0     5          Right   \n",
       "3    FC Bayern München  15500.0   110           Left   \n",
       "4     Cambridge United    120.0     2          Right   \n",
       "\n",
       "   International Reputation  Skill Moves Position  Joined  \\\n",
       "0                       4.0          1.0       GK    2018   \n",
       "1                       4.0          1.0      NaN    2015   \n",
       "2                       1.0          3.0      LCM    2017   \n",
       "3                       4.0          4.0       RM    2009   \n",
       "4                       1.0          2.0       ST    2017   \n",
       "\n",
       "  Contract Valid Until    Height  Weight  Release Clause  \n",
       "0           01/01/2019  6.333333   203.0          7400.0  \n",
       "1           01/01/2019  6.083333   185.0          3000.0  \n",
       "2           01/01/2019  5.916667   165.0          1600.0  \n",
       "3           01/01/2019  5.916667   176.0         25600.0  \n",
       "4           01/01/2019  6.333333   203.0           210.0  "
      ]
     },
     "execution_count": 3,
     "metadata": {},
     "output_type": "execute_result"
    }
   ],
   "source": [
    "data.head()\n"
   ]
  },
  {
   "cell_type": "code",
   "execution_count": 4,
   "metadata": {},
   "outputs": [
    {
     "name": "stdout",
     "output_type": "stream",
     "text": [
      "<class 'pandas.core.frame.DataFrame'>\n",
      "RangeIndex: 2399 entries, 0 to 2398\n",
      "Data columns (total 18 columns):\n",
      " #   Column                    Non-Null Count  Dtype  \n",
      "---  ------                    --------------  -----  \n",
      " 0   ID                        2399 non-null   int64  \n",
      " 1   Name                      2399 non-null   object \n",
      " 2   Age                       2399 non-null   int64  \n",
      " 3   Nationality               2392 non-null   object \n",
      " 4   Overall                   2399 non-null   int64  \n",
      " 5   Potential                 2399 non-null   int64  \n",
      " 6   Club                      2158 non-null   object \n",
      " 7   Value                     2142 non-null   float64\n",
      " 8   Wage                      2399 non-null   int64  \n",
      " 9   Preferred Foot            2399 non-null   object \n",
      " 10  International Reputation  2389 non-null   float64\n",
      " 11  Skill Moves               2393 non-null   float64\n",
      " 12  Position                  2378 non-null   object \n",
      " 13  Joined                    2399 non-null   int64  \n",
      " 14  Contract Valid Until      2126 non-null   object \n",
      " 15  Height                    2399 non-null   float64\n",
      " 16  Weight                    2399 non-null   float64\n",
      " 17  Release Clause            2396 non-null   float64\n",
      "dtypes: float64(6), int64(6), object(6)\n",
      "memory usage: 337.5+ KB\n"
     ]
    }
   ],
   "source": [
    "data.info()"
   ]
  },
  {
   "cell_type": "code",
   "execution_count": 5,
   "metadata": {},
   "outputs": [
    {
     "data": {
      "text/plain": [
       "ID                            0\n",
       "Name                          0\n",
       "Age                           0\n",
       "Nationality                   7\n",
       "Overall                       0\n",
       "Potential                     0\n",
       "Club                        241\n",
       "Value                       257\n",
       "Wage                          0\n",
       "Preferred Foot                0\n",
       "International Reputation     10\n",
       "Skill Moves                   6\n",
       "Position                     21\n",
       "Joined                        0\n",
       "Contract Valid Until        273\n",
       "Height                        0\n",
       "Weight                        0\n",
       "Release Clause                3\n",
       "dtype: int64"
      ]
     },
     "execution_count": 5,
     "metadata": {},
     "output_type": "execute_result"
    }
   ],
   "source": [
    "data.isna().sum()"
   ]
  },
  {
   "cell_type": "markdown",
   "metadata": {},
   "source": [
    "Неполными являются колонки Club, Value, International Reputation, Skill Moves, Position, Contract Valid Until, Release Clause. \n",
    "Не совсем ясно какие колонки являются ненужными. Если бы я решила удалить колонку Club, я бы воспользовалась функцией: data1 = data.drop('Club', axis=1) \n",
    "Удалите ненужные колонки и недостающие значения:"
   ]
  },
  {
   "cell_type": "code",
   "execution_count": 6,
   "metadata": {},
   "outputs": [
    {
     "data": {
      "text/plain": [
       "(2075, 18)"
      ]
     },
     "execution_count": 6,
     "metadata": {},
     "output_type": "execute_result"
    }
   ],
   "source": [
    "data_cleaned = data.dropna()\n",
    "data_cleaned.shape"
   ]
  },
  {
   "cell_type": "code",
   "execution_count": 7,
   "metadata": {},
   "outputs": [
    {
     "data": {
      "text/plain": [
       "ID                          0\n",
       "Name                        0\n",
       "Age                         0\n",
       "Nationality                 0\n",
       "Overall                     0\n",
       "Potential                   0\n",
       "Club                        0\n",
       "Value                       0\n",
       "Wage                        0\n",
       "Preferred Foot              0\n",
       "International Reputation    0\n",
       "Skill Moves                 0\n",
       "Position                    0\n",
       "Joined                      0\n",
       "Contract Valid Until        0\n",
       "Height                      0\n",
       "Weight                      0\n",
       "Release Clause              0\n",
       "dtype: int64"
      ]
     },
     "execution_count": 7,
     "metadata": {},
     "output_type": "execute_result"
    }
   ],
   "source": [
    "data_cleaned.isna().sum()"
   ]
  },
  {
   "cell_type": "markdown",
   "metadata": {},
   "source": [
    "2. Найдите в датафрейме полные дубликаты и удалите их. "
   ]
  },
  {
   "cell_type": "code",
   "execution_count": 9,
   "metadata": {},
   "outputs": [
    {
     "name": "stderr",
     "output_type": "stream",
     "text": [
      "C:\\Users\\Sasha\\AppData\\Local\\Temp\\ipykernel_18260\\924638410.py:3: UserWarning: Boolean Series key will be reindexed to match DataFrame index.\n",
      "  data_noduplicates = data_cleaned[~duplicates]\n"
     ]
    },
    {
     "data": {
      "text/plain": [
       "(2071, 18)"
      ]
     },
     "execution_count": 9,
     "metadata": {},
     "output_type": "execute_result"
    }
   ],
   "source": [
    "data_cleaned_lower = data.apply(lambda x: x.astype(str).str.lower())\n",
    "duplicates = data_cleaned_lower.duplicated(keep=False)\n",
    "data_noduplicates = data_cleaned[~duplicates]\n",
    "data_noduplicates.shape"
   ]
  },
  {
   "cell_type": "markdown",
   "metadata": {},
   "source": [
    "Напишите функцию, которая добавит колонку с разбиением возраста по группам: до 20, от 20 до 30, от 30 до\n",
    "36 и старше 36. Посчитайте количество футболистов в каждой категории."
   ]
  },
  {
   "cell_type": "code",
   "execution_count": 10,
   "metadata": {},
   "outputs": [
    {
     "name": "stderr",
     "output_type": "stream",
     "text": [
      "C:\\Users\\Sasha\\AppData\\Local\\Temp\\ipykernel_18260\\3973629523.py:11: SettingWithCopyWarning: \n",
      "A value is trying to be set on a copy of a slice from a DataFrame.\n",
      "Try using .loc[row_indexer,col_indexer] = value instead\n",
      "\n",
      "See the caveats in the documentation: https://pandas.pydata.org/pandas-docs/stable/user_guide/indexing.html#returning-a-view-versus-a-copy\n",
      "  data_noduplicates['Age Category'] = data_noduplicates['Age'].apply(categorize_age)\n"
     ]
    },
    {
     "data": {
      "text/html": [
       "<div>\n",
       "<style scoped>\n",
       "    .dataframe tbody tr th:only-of-type {\n",
       "        vertical-align: middle;\n",
       "    }\n",
       "\n",
       "    .dataframe tbody tr th {\n",
       "        vertical-align: top;\n",
       "    }\n",
       "\n",
       "    .dataframe thead th {\n",
       "        text-align: right;\n",
       "    }\n",
       "</style>\n",
       "<table border=\"1\" class=\"dataframe\">\n",
       "  <thead>\n",
       "    <tr style=\"text-align: right;\">\n",
       "      <th></th>\n",
       "      <th>ID</th>\n",
       "      <th>Name</th>\n",
       "      <th>Age</th>\n",
       "      <th>Nationality</th>\n",
       "      <th>Overall</th>\n",
       "      <th>Potential</th>\n",
       "      <th>Club</th>\n",
       "      <th>Value</th>\n",
       "      <th>Wage</th>\n",
       "      <th>Preferred Foot</th>\n",
       "      <th>International Reputation</th>\n",
       "      <th>Skill Moves</th>\n",
       "      <th>Position</th>\n",
       "      <th>Joined</th>\n",
       "      <th>Contract Valid Until</th>\n",
       "      <th>Height</th>\n",
       "      <th>Weight</th>\n",
       "      <th>Release Clause</th>\n",
       "      <th>Age Category</th>\n",
       "    </tr>\n",
       "  </thead>\n",
       "  <tbody>\n",
       "    <tr>\n",
       "      <th>0</th>\n",
       "      <td>1179</td>\n",
       "      <td>G. Buffon</td>\n",
       "      <td>40</td>\n",
       "      <td>Italy</td>\n",
       "      <td>88</td>\n",
       "      <td>88</td>\n",
       "      <td>Paris Saint-Germain</td>\n",
       "      <td>4000.0</td>\n",
       "      <td>77</td>\n",
       "      <td>Right</td>\n",
       "      <td>4.0</td>\n",
       "      <td>1.0</td>\n",
       "      <td>GK</td>\n",
       "      <td>2018</td>\n",
       "      <td>01/01/2019</td>\n",
       "      <td>6.333333</td>\n",
       "      <td>203.0</td>\n",
       "      <td>7400.0</td>\n",
       "      <td>старше 36</td>\n",
       "    </tr>\n",
       "    <tr>\n",
       "      <th>2</th>\n",
       "      <td>8205</td>\n",
       "      <td>Braga</td>\n",
       "      <td>35</td>\n",
       "      <td>Portugal</td>\n",
       "      <td>70</td>\n",
       "      <td>70</td>\n",
       "      <td>CD Aves</td>\n",
       "      <td>750.0</td>\n",
       "      <td>5</td>\n",
       "      <td>Right</td>\n",
       "      <td>1.0</td>\n",
       "      <td>3.0</td>\n",
       "      <td>LCM</td>\n",
       "      <td>2017</td>\n",
       "      <td>01/01/2019</td>\n",
       "      <td>5.916667</td>\n",
       "      <td>165.0</td>\n",
       "      <td>1600.0</td>\n",
       "      <td>от 30 до 36</td>\n",
       "    </tr>\n",
       "    <tr>\n",
       "      <th>3</th>\n",
       "      <td>9014</td>\n",
       "      <td>A. Robben</td>\n",
       "      <td>34</td>\n",
       "      <td>Netherlands</td>\n",
       "      <td>84</td>\n",
       "      <td>84</td>\n",
       "      <td>FC Bayern München</td>\n",
       "      <td>15500.0</td>\n",
       "      <td>110</td>\n",
       "      <td>Left</td>\n",
       "      <td>4.0</td>\n",
       "      <td>4.0</td>\n",
       "      <td>RM</td>\n",
       "      <td>2009</td>\n",
       "      <td>01/01/2019</td>\n",
       "      <td>5.916667</td>\n",
       "      <td>176.0</td>\n",
       "      <td>25600.0</td>\n",
       "      <td>от 30 до 36</td>\n",
       "    </tr>\n",
       "    <tr>\n",
       "      <th>4</th>\n",
       "      <td>19521</td>\n",
       "      <td>J. Ibehre</td>\n",
       "      <td>35</td>\n",
       "      <td>England</td>\n",
       "      <td>61</td>\n",
       "      <td>61</td>\n",
       "      <td>Cambridge United</td>\n",
       "      <td>120.0</td>\n",
       "      <td>2</td>\n",
       "      <td>Right</td>\n",
       "      <td>1.0</td>\n",
       "      <td>2.0</td>\n",
       "      <td>ST</td>\n",
       "      <td>2017</td>\n",
       "      <td>01/01/2019</td>\n",
       "      <td>6.333333</td>\n",
       "      <td>203.0</td>\n",
       "      <td>210.0</td>\n",
       "      <td>от 30 до 36</td>\n",
       "    </tr>\n",
       "    <tr>\n",
       "      <th>5</th>\n",
       "      <td>20209</td>\n",
       "      <td>Ricardo Costa</td>\n",
       "      <td>37</td>\n",
       "      <td>Portugal</td>\n",
       "      <td>74</td>\n",
       "      <td>74</td>\n",
       "      <td>CD Tondela</td>\n",
       "      <td>750.0</td>\n",
       "      <td>4</td>\n",
       "      <td>Right</td>\n",
       "      <td>2.0</td>\n",
       "      <td>2.0</td>\n",
       "      <td>LCB</td>\n",
       "      <td>2017</td>\n",
       "      <td>01/01/2019</td>\n",
       "      <td>6.000000</td>\n",
       "      <td>181.0</td>\n",
       "      <td>1600.0</td>\n",
       "      <td>старше 36</td>\n",
       "    </tr>\n",
       "  </tbody>\n",
       "</table>\n",
       "</div>"
      ],
      "text/plain": [
       "      ID           Name  Age  Nationality  Overall  Potential  \\\n",
       "0   1179      G. Buffon   40        Italy       88         88   \n",
       "2   8205          Braga   35     Portugal       70         70   \n",
       "3   9014      A. Robben   34  Netherlands       84         84   \n",
       "4  19521      J. Ibehre   35      England       61         61   \n",
       "5  20209  Ricardo Costa   37     Portugal       74         74   \n",
       "\n",
       "                  Club    Value  Wage Preferred Foot  \\\n",
       "0  Paris Saint-Germain   4000.0    77          Right   \n",
       "2              CD Aves    750.0     5          Right   \n",
       "3    FC Bayern München  15500.0   110           Left   \n",
       "4     Cambridge United    120.0     2          Right   \n",
       "5           CD Tondela    750.0     4          Right   \n",
       "\n",
       "   International Reputation  Skill Moves Position  Joined  \\\n",
       "0                       4.0          1.0       GK    2018   \n",
       "2                       1.0          3.0      LCM    2017   \n",
       "3                       4.0          4.0       RM    2009   \n",
       "4                       1.0          2.0       ST    2017   \n",
       "5                       2.0          2.0      LCB    2017   \n",
       "\n",
       "  Contract Valid Until    Height  Weight  Release Clause Age Category  \n",
       "0           01/01/2019  6.333333   203.0          7400.0    старше 36  \n",
       "2           01/01/2019  5.916667   165.0          1600.0  от 30 до 36  \n",
       "3           01/01/2019  5.916667   176.0         25600.0  от 30 до 36  \n",
       "4           01/01/2019  6.333333   203.0           210.0  от 30 до 36  \n",
       "5           01/01/2019  6.000000   181.0          1600.0    старше 36  "
      ]
     },
     "execution_count": 10,
     "metadata": {},
     "output_type": "execute_result"
    }
   ],
   "source": [
    "def categorize_age(Age):\n",
    "    if Age < 20:\n",
    "        return 'до 20'\n",
    "    elif Age >= 20 and Age < 30:\n",
    "        return 'от 20 до 30'\n",
    "    elif Age >= 30 and Age < 36:\n",
    "        return 'от 30 до 36'\n",
    "    else:\n",
    "        return 'старше 36'\n",
    "\n",
    "data_noduplicates['Age Category'] = data_noduplicates['Age'].apply(categorize_age)\n",
    "data_noduplicates.head()"
   ]
  },
  {
   "cell_type": "code",
   "execution_count": 16,
   "metadata": {},
   "outputs": [
    {
     "name": "stderr",
     "output_type": "stream",
     "text": [
      "C:\\Users\\Sasha\\AppData\\Local\\Temp\\ipykernel_18260\\1839798556.py:1: FutureWarning: Series.__getitem__ treating keys as positions is deprecated. In a future version, integer keys will always be treated as labels (consistent with DataFrame behavior). To access a value by position, use `ser.iloc[pos]`\n",
      "  sum_of_players_younger_20 = data_noduplicates['Age Category'].value_counts()[0]\n"
     ]
    }
   ],
   "source": [
    "data_noduplicates['Age Category'].value_counts()[0]"
   ]
  },
  {
   "cell_type": "code",
   "execution_count": 18,
   "metadata": {},
   "outputs": [
    {
     "name": "stdout",
     "output_type": "stream",
     "text": [
      "  Age Category  Player Count\n",
      "0        до 20           262\n",
      "1  от 20 до 30          1415\n",
      "2  от 30 до 36           377\n",
      "3    старше 36            17\n"
     ]
    }
   ],
   "source": [
    "player_count = data_noduplicates.groupby('Age Category').size().reset_index(name='Player Count')\n",
    "\n",
    "print(player_count)"
   ]
  }
 ],
 "metadata": {
  "kernelspec": {
   "display_name": "Python 3",
   "language": "python",
   "name": "python3"
  },
  "language_info": {
   "codemirror_mode": {
    "name": "ipython",
    "version": 3
   },
   "file_extension": ".py",
   "mimetype": "text/x-python",
   "name": "python",
   "nbconvert_exporter": "python",
   "pygments_lexer": "ipython3",
   "version": "3.12.2"
  }
 },
 "nbformat": 4,
 "nbformat_minor": 2
}
